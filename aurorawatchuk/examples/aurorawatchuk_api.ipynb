{
 "metadata": {
  "name": "",
  "signature": "sha256:38680c62bbebfcc3032474eec08e08f77ce5808319c74b8339e24932b8b1d47d"
 },
 "nbformat": 3,
 "nbformat_minor": 0,
 "worksheets": [
  {
   "cells": [
    {
     "cell_type": "heading",
     "level": 1,
     "metadata": {},
     "source": [
      "`aurorawatchuk` - a Python wrapper to the AuroraWatch UK status API"
     ]
    },
    {
     "cell_type": "markdown",
     "metadata": {},
     "source": [
      "This notebook demonstrates use of the aurorawatchuk Python module for the AuroraWatch UK current status and activity API. For more information about AuroraWatch UK see http://aurorawatch.lancs.ac.uk/ For information about the API and usage restrictions see http://aurorawatch.lancs.ac.uk/api-info/."
     ]
    },
    {
     "cell_type": "heading",
     "level": 2,
     "metadata": {},
     "source": [
      "Installation"
     ]
    },
    {
     "cell_type": "markdown",
     "metadata": {},
     "source": [
      "The easiest way to install the module is to run `pip` from the command line:\n",
      "\n",
      "    pip install aurorawatchuk\n",
      "    \n",
      "Developers might wish to clone the [git respository](https://github.com/stevemarple/python-aurorawatchuk) and install it in developer mode:\n",
      "\n",
      "    git clone https://github.com/stevemarple/python-aurorawatchuk.git\n",
      "    cd python-aurorawatchuk\n",
      "    python setup.py develop"
     ]
    },
    {
     "cell_type": "heading",
     "level": 2,
     "metadata": {},
     "source": [
      "\n",
      "Using the module"
     ]
    },
    {
     "cell_type": "markdown",
     "metadata": {},
     "source": [
      "When the module is installed you can use it with Python 2.7 and Python 3.x. First import the module into your Python program and then set the HTTP `referer`. In this example we'll use `ipython tutorial` but you should set it to something appropriate for your program. Next create an instance of the class."
     ]
    },
    {
     "cell_type": "code",
     "collapsed": false,
     "input": [
      "import aurorawatchuk\n",
      "aurorawatchuk.user_agent = 'Python aurorawatchuk module (ipython tutorial)'\n",
      "awuk = aurorawatchuk.AuroraWatchUK()"
     ],
     "language": "python",
     "metadata": {},
     "outputs": [],
     "prompt_number": 1
    },
    {
     "cell_type": "markdown",
     "metadata": {},
     "source": [
      "Now you are ready to access the current status and activity values. The Python module takes care of updating the information for you when it has expired."
     ]
    },
    {
     "cell_type": "heading",
     "level": 3,
     "metadata": {},
     "source": [
      "Accessing the status level"
     ]
    },
    {
     "cell_type": "markdown",
     "metadata": {},
     "source": [
      "There are four AuroraWatch UK status levels: `green`, `yellow`, `amber` and `red`. Each has a defined *meaning*, *description* and *color*. For more information see http://aurorawatch.lancs.ac.uk/alerts."
     ]
    },
    {
     "cell_type": "code",
     "collapsed": false,
     "input": [
      "print(\"The current status level is {awuk.status.level}\".format(awuk=awuk))"
     ],
     "language": "python",
     "metadata": {},
     "outputs": [
      {
       "output_type": "stream",
       "stream": "stdout",
       "text": [
        "The current status level is green\n"
       ]
      }
     ],
     "prompt_number": 2
    },
    {
     "cell_type": "markdown",
     "metadata": {},
     "source": [
      "The example above accesses the status information only. Further detail is possible by cross-referencing the level with the descriptions information. The module takes care of this for you."
     ]
    },
    {
     "cell_type": "code",
     "collapsed": false,
     "input": [
      "print(\"The current status is: {awuk.status.level} - {awuk.status_description}\".format(awuk=awuk))"
     ],
     "language": "python",
     "metadata": {},
     "outputs": [
      {
       "output_type": "stream",
       "stream": "stdout",
       "text": [
        "The current status is: green - No significant activity\n"
       ]
      }
     ],
     "prompt_number": 3
    },
    {
     "cell_type": "markdown",
     "metadata": {},
     "source": [
      "Further explanation is possible from the `meaning` attribute:"
     ]
    },
    {
     "cell_type": "code",
     "collapsed": false,
     "input": [
      "print(\"The current status level is {awuk.status.level}, that means '{awuk.status_meaning}'\".format(awuk=awuk))"
     ],
     "language": "python",
     "metadata": {},
     "outputs": [
      {
       "output_type": "stream",
       "stream": "stdout",
       "text": [
        "The current status level is green, that means 'Aurora is unlikely to be visible by eye or camera from anywhere in the UK.'\n"
       ]
      }
     ],
     "prompt_number": 4
    },
    {
     "cell_type": "heading",
     "level": 3,
     "metadata": {},
     "source": [
      "Accessing the activity values"
     ]
    },
    {
     "cell_type": "markdown",
     "metadata": {},
     "source": [
      "The activity values can be retrieved from the `activity` attribute.This returns an `Activity` object that contains a number of useful attributes:\n",
      "\n",
      "* `latest`: The latest hourly activity information as a single `ActivityValue` object.\n",
      "* `all`: A `list` containing the 24 most recent hourly `ActivityValue` objects.\n",
      "* `thresholds`: An `OrderedDict` of the lowest activity threshold (>=) for each status level. \n",
      "\n",
      "Each `ActivityValue` object holds the information relevant to a single hourly activity level: the status `level`, the geomagnetic disturbance `value` in nanotesla (rounded to the nearest 0.1nT), and the `datetime` corresponding to the start of the hourly activity period.\n",
      "\n",
      "This most easily demonstrated by printing the latest activity information."
     ]
    },
    {
     "cell_type": "code",
     "collapsed": false,
     "input": [
      "print(\"The current status level is {awuk.activity.latest.level}.\".format(awuk=awuk))\n",
      "print(\"The current disturbance value is {awuk.activity.latest.value} nT.\".format(awuk=awuk))\n",
      "print(\"The hourly activity period began at {awuk.activity.latest.datetime}\".format(awuk=awuk))"
     ],
     "language": "python",
     "metadata": {},
     "outputs": [
      {
       "output_type": "stream",
       "stream": "stdout",
       "text": [
        "The current status level is green.\n",
        "The current disturbance value is 7.4 nT.\n",
        "The hourly activity period began at 2017-02-14 13:00:00\n"
       ]
      }
     ],
     "prompt_number": 5
    },
    {
     "cell_type": "markdown",
     "metadata": {},
     "source": [
      "The time is returned as a `datetime` object so we can use any of the formatting specifiers for `datetime`, see https://docs.python.org/library/datetime.html"
     ]
    },
    {
     "cell_type": "code",
     "collapsed": false,
     "input": [
      "print(\"The hour began at {awuk.activity.latest.datetime:%I%P on %x}.\".format(awuk=awuk))"
     ],
     "language": "python",
     "metadata": {},
     "outputs": [
      {
       "output_type": "stream",
       "stream": "stdout",
       "text": [
        "The hour began at 01pm on 02/14/17.\n"
       ]
      }
     ],
     "prompt_number": 6
    },
    {
     "cell_type": "markdown",
     "metadata": {},
     "source": [
      "The activity information for the last 24 hours can be accessed from the `activity.all` attributes. This returns a list of 24 `ActivityValue` objects. The API only provides current and recent activity values, historical values are not available. \n",
      "\n"
     ]
    },
    {
     "cell_type": "heading",
     "level": 3,
     "metadata": {},
     "source": [
      "Using color"
     ]
    },
    {
     "cell_type": "markdown",
     "metadata": {},
     "source": [
      "If you use color to convey the alert level then please use the same colors as AuroraWatch UK. The module makes this information easy to access:"
     ]
    },
    {
     "cell_type": "code",
     "collapsed": false,
     "input": [
      "print(\"The current status level is {awuk.status.level}, web color {awuk.status_color}.\".format(awuk=awuk))"
     ],
     "language": "python",
     "metadata": {},
     "outputs": [
      {
       "output_type": "stream",
       "stream": "stdout",
       "text": [
        "The current status level is green, web color #33ff33.\n"
       ]
      }
     ],
     "prompt_number": 7
    },
    {
     "cell_type": "heading",
     "level": 3,
     "metadata": {},
     "source": [
      "Accessing the descriptions"
     ]
    },
    {
     "cell_type": "markdown",
     "metadata": {},
     "source": [
      "Often you can let the module cross-reference the descriptions for you, and the `status_color`, `status_description` and `status_meaning` attributes do just that. Sometimes you may need to know the description and meanings for any alert level, not just the current status level. Unlike the status and activity values the descriptions don't normally change. However, by fetching the descriptions from the AuroraWatch UK API you can ensure the descriptions you use will always match those on the AuroraWatch UK web site. The descriptions are returned in increasing alert level as an `OrderedDict`."
     ]
    },
    {
     "cell_type": "code",
     "collapsed": false,
     "input": [
      "print(awuk.descriptions)"
     ],
     "language": "python",
     "metadata": {},
     "outputs": [
      {
       "output_type": "stream",
       "stream": "stdout",
       "text": [
        "OrderedDict([('green', {'color': '#33ff33', 'meaning': 'Aurora is unlikely to be visible by eye or camera from anywhere in the UK.', 'description': 'No significant activity'}), ('yellow', {'color': '#ffff00', 'meaning': 'Aurora may be visible by eye from Scotland and may be visible by camera from Scotland, northern England and Northern Ireland.', 'description': 'Minor geomagnetic activity'}), ('amber', {'color': '#ff9900', 'meaning': 'Aurora is likely to be visible by eye from Scotland, northern England and Northern Ireland; possibly visible from elsewhere in the UK. Photographs of aurora are likely from anywhere in the UK.', 'description': 'Amber alert: possible aurora'}), ('red', {'color': '#ff0000', 'meaning': 'It is likely that aurora will be visible by eye and camera from anywhere in the UK.', 'description': 'Red alert: aurora likely'})])\n"
       ]
      }
     ],
     "prompt_number": 8
    },
    {
     "cell_type": "heading",
     "level": 3,
     "metadata": {},
     "source": [
      "Using the module efficiently"
     ]
    },
    {
     "cell_type": "markdown",
     "metadata": {},
     "source": [
      "The information available from the `status` attribute is a subset of that from the `activity` attribute, however the `status` XML document it requests is smaller than the `activity` XML document. Therefore unless you require the actual activity values it is more efficient to access the `status` attribute."
     ]
    },
    {
     "cell_type": "heading",
     "level": 3,
     "metadata": {},
     "source": [
      "Avoiding exceptions"
     ]
    },
    {
     "cell_type": "markdown",
     "metadata": {},
     "source": [
      "If for some reason the status information is not available (for example, due to a network or server problem) then an exception is raised. In some cases this might be undesirable and you might prefer to print an 'unknown' message instead. If so then create the AuroraWatchUK oject as below:"
     ]
    },
    {
     "cell_type": "code",
     "collapsed": false,
     "input": [
      "awuk = aurorawatchuk.AuroraWatchUK(raise_=False)"
     ],
     "language": "python",
     "metadata": {},
     "outputs": [],
     "prompt_number": 9
    },
    {
     "cell_type": "markdown",
     "metadata": {},
     "source": [
      "Note the trailing underscore (`raise_`) to distinguish from the `raise` keyword.\n",
      "\n",
      "It is also necessary to use the special attribute `status_level`, instead of accessing the `level` attribute of the `status` attribute (`status.level`).\n",
      "\n",
      "When the `AuroraWatchUK` object is created with `raise_=False` and the status cannot be determined the unknown color is mid-grey (`#777777`); this can be adjusted with the `unknown_status_color` keyword argument to the constructor."
     ]
    },
    {
     "cell_type": "code",
     "collapsed": false,
     "input": [
      "# Use black for the color when the status cannot be determined\n",
      "awuk = aurorawatchuk.AuroraWatchUK(raise_=False, unknown_status_color='#000000')"
     ],
     "language": "python",
     "metadata": {},
     "outputs": [],
     "prompt_number": 10
    },
    {
     "cell_type": "heading",
     "level": 3,
     "metadata": {},
     "source": [
      "Avoiding unintended updates"
     ]
    },
    {
     "cell_type": "markdown",
     "metadata": {},
     "source": [
      "It is important to be aware that as the module refreshes (and caches) its internal information to stay correct it is possible that the information could change between accesses. For instance, consider the following code."
     ]
    },
    {
     "cell_type": "code",
     "collapsed": false,
     "input": [
      "import time\n",
      "\n",
      "for n in range(3):\n",
      "    print(\"The AuroraWatch UK status is {awuk.status_level}.\".format(awuk=awuk))\n",
      "    # Status level might be updated here\n",
      "    print(\"The color for status level {awuk.status_level} is {awuk.status_color}.\\n------\".format(awuk=awuk))\n",
      "    time.sleep(2)"
     ],
     "language": "python",
     "metadata": {},
     "outputs": [
      {
       "output_type": "stream",
       "stream": "stdout",
       "text": [
        "The AuroraWatch UK status is green.\n",
        "The color for status level green is #33ff33.\n",
        "------\n",
        "The AuroraWatch UK status is green."
       ]
      },
      {
       "output_type": "stream",
       "stream": "stdout",
       "text": [
        "\n",
        "The color for status level green is #33ff33.\n",
        "------\n",
        "The AuroraWatch UK status is green."
       ]
      },
      {
       "output_type": "stream",
       "stream": "stdout",
       "text": [
        "\n",
        "The color for status level green is #33ff33.\n",
        "------\n"
       ]
      }
     ],
     "prompt_number": 11
    },
    {
     "cell_type": "markdown",
     "metadata": {},
     "source": [
      "The status information might be refreshed between these two print statements, and it could be different. The status information might even change between printing the status level and its color in the second print statement!\n",
      "\n",
      "Some of these problems can be avoided by taking a copy of the `status` or `activity` attributes. An easier method is to use the `AuroraWatchUK_SS` class which takes a snapshot of the status or activity when first requested, and does not update afterwards; create a new object later when you are ready for an update to occur.\n",
      "\n",
      "The code above is then written as:"
     ]
    },
    {
     "cell_type": "code",
     "collapsed": false,
     "input": [
      "import aurorawatchuk\n",
      "import aurorawatchuk.snapshot\n",
      "import time\n",
      "\n",
      "aurorawatchuk.user_agent = 'Python aurorawatchuk module (ipython tutorial)'\n",
      "\n",
      "for n in range(3):\n",
      "    awuk = aurorawatchuk.snapshot.AuroraWatchUK()\n",
      "    print(\"The AuroraWatch UK status is {awuk.status_level}.\".format(awuk=awuk))\n",
      "    print(\"The color for status level {awuk.status_level} is {awuk.status_color}.\".format(awuk=awuk))\n",
      "    print(\"------\")\n",
      "    time.sleep(2)"
     ],
     "language": "python",
     "metadata": {},
     "outputs": [
      {
       "output_type": "stream",
       "stream": "stdout",
       "text": [
        "The AuroraWatch UK status is green.\n",
        "The color for status level green is #33ff33.\n",
        "------\n",
        "The AuroraWatch UK status is green."
       ]
      },
      {
       "output_type": "stream",
       "stream": "stdout",
       "text": [
        "\n",
        "The color for status level green is #33ff33.\n",
        "------\n",
        "The AuroraWatch UK status is green."
       ]
      },
      {
       "output_type": "stream",
       "stream": "stdout",
       "text": [
        "\n",
        "The color for status level green is #33ff33.\n",
        "------\n"
       ]
      }
     ],
     "prompt_number": 12
    },
    {
     "cell_type": "markdown",
     "metadata": {},
     "source": [
      "Now the status level is fetched (or accessed from the internal cache) at the start of each loop. The status level will not change between the two print statements and the status level and its color will always be printed correctly."
     ]
    },
    {
     "cell_type": "heading",
     "level": 3,
     "metadata": {},
     "source": [
      "Messages"
     ]
    },
    {
     "cell_type": "markdown",
     "metadata": {},
     "source": [
      "The API includes the facility for important messages to be broadcast to users. Each message is represented by an object of type `Message` with the following attributes:\n",
      "  \n",
      "  * `description`: the message text.\n",
      "  * `expires`: the message expiration time, as a `datetime.datetime` object. Messages should not be displayed after this time.\n",
      "  * `id`: a unique identifier for the message.\n",
      "  * `priority`: The priority for the message; `'high` suggests that an alerting notification might be appropriate, `low` suggests a quiet (non-alerting) notification is more appropriate. Tes messages have the priority set to `test` and `test` and should not be displayed. Messages with any other priority should not be displayed.\n",
      "  * `url`: an optional URL.\n",
      "  \n",
      "Messages can be obtained from either the `status` or `activity` attributes. The following code demonstrates how to check and display any messages."
     ]
    },
    {
     "cell_type": "code",
     "collapsed": false,
     "input": [
      "# Use the snapshot version of the class to avoid an unwanted updates occuring, such as between\n",
      "# the test for messages and displaying them.\n",
      "import aurorawatchuk\n",
      "import aurorawatchuk.snapshot\n",
      "awuk = aurorawatchuk.snapshot.AuroraWatchUK()\n",
      "\n",
      "# If not using activity the status information is more efficient\n",
      "messages = awuk.status.messages\n",
      "\n",
      "if len(messages) == 0:\n",
      "    print(\"There are no messages.\")\n",
      "else:\n",
      "    for n in range(len(messages)):\n",
      "        print('Message #{n}: '.format(n=n))\n",
      "        print('    {mesg.description}'.format(awuk.messages[n]))\n",
      "        "
     ],
     "language": "python",
     "metadata": {},
     "outputs": [
      {
       "output_type": "stream",
       "stream": "stdout",
       "text": [
        "There are no messages.\n"
       ]
      }
     ],
     "prompt_number": 13
    }
   ],
   "metadata": {}
  }
 ]
}